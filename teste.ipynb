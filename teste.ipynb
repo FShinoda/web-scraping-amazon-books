{
 "cells": [
  {
   "cell_type": "code",
   "execution_count": 5,
   "metadata": {},
   "outputs": [],
   "source": [
    "import sys\n",
    "import time\n",
    "from selenium import webdriver\n",
    "from selenium.webdriver.common.keys import Keys\n",
    "from selenium.webdriver.common.by import By\n",
    "from selenium.webdriver.support.ui import WebDriverWait\n",
    "from selenium.webdriver.support import expected_conditions as EC\n",
    "\n",
    "driver = webdriver.Chrome()\n",
    "driver.get('https://www.amazon.com.br/gp/bestsellers/books/ref=sv_b_1') \n",
    "\n",
    "\n",
    "# Wait every element to load and select book container\n",
    "bookContainerList = WebDriverWait(driver, 20).until(\n",
    "    EC.presence_of_all_elements_located((By.CSS_SELECTOR, 'div.a-section.a-spacing-none.aok-relative'))\n",
    ")\n",
    "\n",
    "\n",
    "\n",
    "data = []\n"
   ]
  },
  {
   "cell_type": "code",
   "execution_count": 2,
   "metadata": {},
   "outputs": [
    {
     "name": "stdout",
     "output_type": "stream",
     "text": [
      "[<selenium.webdriver.remote.webelement.WebElement (session=\"1859d5f9a5ee1635f2831323b3e6d0d2\", element=\"c3c690c1-9d53-4acd-89d1-e8f0ca07928b\")>, <selenium.webdriver.remote.webelement.WebElement (session=\"1859d5f9a5ee1635f2831323b3e6d0d2\", element=\"62872f67-fc80-49b7-ad94-e5f9d59be984\")>]\n"
     ]
    }
   ],
   "source": [
    "import sys\n",
    "import time\n",
    "from selenium import webdriver\n",
    "from selenium.webdriver.common.keys import Keys\n",
    "from selenium.webdriver.common.by import By\n",
    "from selenium.webdriver.support.ui import WebDriverWait\n",
    "from selenium.webdriver.support import expected_conditions as EC\n",
    "\n",
    "driver = webdriver.Chrome()\n",
    "driver.get('https://www.amazon.com.br/Duna-Frank-Herbert/dp/857657313X/ref=zg_bs_books_2?_encoding=UTF8&psc=1&refRID=N3B37NV52H0KBKXAVPXJ') \n",
    "\n",
    "\n",
    "bookDetailsList = WebDriverWait(driver, 10).until(\n",
    "            EC.presence_of_all_elements_located((By.ID, 'detailBullets_feature_div'))\n",
    "        )\n",
    "\n",
    "data = []\n",
    "print(bookDetailsList)"
   ]
  },
  {
   "cell_type": "code",
   "execution_count": null,
   "metadata": {},
   "outputs": [],
   "source": []
  },
  {
   "cell_type": "markdown",
   "metadata": {},
   "source": [
    "## Teste - get link do livro"
   ]
  },
  {
   "cell_type": "code",
   "execution_count": 6,
   "metadata": {},
   "outputs": [
    {
     "name": "stdout",
     "output_type": "stream",
     "text": [
      "https://www.amazon.com.br/Garota-do-Lago-Charlie-Donlea/dp/856240988X/ref=zg_bs_books_2/134-9452640-3612207?_encoding=UTF8&psc=1&refRID=3XB6NJ27MVC1A4JWPGHA\n"
     ]
    }
   ],
   "source": [
    "element = bookContainerList[1]\n",
    "livroLinkPai = element.find_elements_by_css_selector(\"span.aok-inline-block.zg-item\") # pega o pai\n",
    "livroLink = livroLinkPai[0].find_element_by_xpath('.//*').get_attribute(\"href\") # pega o filho\n",
    "print(livroLink)\n",
    "\n",
    "driver.get(livroLink) "
   ]
  },
  {
   "cell_type": "markdown",
   "metadata": {},
   "source": [
    "### Dentro do link do livro"
   ]
  },
  {
   "cell_type": "code",
   "execution_count": 14,
   "metadata": {},
   "outputs": [
    {
     "name": "stdout",
     "output_type": "stream",
     "text": [
      "[[<selenium.webdriver.remote.webelement.WebElement (session=\"9d5dc3e4cf4ec0eca7d6b6cd7a7f4ead\", element=\"776763cd-a064-461d-b768-553da40bfcef\")>, <selenium.webdriver.remote.webelement.WebElement (session=\"9d5dc3e4cf4ec0eca7d6b6cd7a7f4ead\", element=\"7d380793-fb36-45bf-bbc3-2165091f124b\")>, <selenium.webdriver.remote.webelement.WebElement (session=\"9d5dc3e4cf4ec0eca7d6b6cd7a7f4ead\", element=\"7a9b0ccd-72d0-4594-8595-c81bd945b159\")>], [<selenium.webdriver.remote.webelement.WebElement (session=\"9d5dc3e4cf4ec0eca7d6b6cd7a7f4ead\", element=\"923f5d22-e826-44c7-b86c-31e72b1a3cba\")>, <selenium.webdriver.remote.webelement.WebElement (session=\"9d5dc3e4cf4ec0eca7d6b6cd7a7f4ead\", element=\"d78388a5-16c5-4de3-b1f3-42ce3d5628d6\")>, <selenium.webdriver.remote.webelement.WebElement (session=\"9d5dc3e4cf4ec0eca7d6b6cd7a7f4ead\", element=\"7065c6f3-7b45-4de2-9bb0-f47eebe0d933\")>], [<selenium.webdriver.remote.webelement.WebElement (session=\"9d5dc3e4cf4ec0eca7d6b6cd7a7f4ead\", element=\"89528b45-6ab2-4dfb-814e-62ce160c33c1\")>, <selenium.webdriver.remote.webelement.WebElement (session=\"9d5dc3e4cf4ec0eca7d6b6cd7a7f4ead\", element=\"5f0a5319-689c-4bf2-ac02-d7352349800d\")>, <selenium.webdriver.remote.webelement.WebElement (session=\"9d5dc3e4cf4ec0eca7d6b6cd7a7f4ead\", element=\"d06e53fe-4940-48ed-bc76-a42f2f25a645\")>]]\n"
     ]
    }
   ],
   "source": [
    "bookDetailsList = WebDriverWait(driver, 10).until(\n",
    "        EC.presence_of_all_elements_located((By.ID, 'detailBullets_feature_div'))\n",
    "    )\n",
    "\n",
    "bookDetails = bookDetailsList[1]\n",
    "\n",
    "bookDetailsElements = bookDetails.find_elements_by_tag_name('li')[0:3]\n",
    "\n",
    "spanList = []\n",
    "    \n",
    "     \n",
    "for li in bookDetailsElements:\n",
    "    spanList.append(li.find_elements_by_tag_name('span'))\n",
    "\n",
    "print(spanList)\n",
    "\n",
    "  "
   ]
  },
  {
   "cell_type": "markdown",
   "metadata": {},
   "source": [
    "### editora   \n",
    "### data de publicação\n",
    "### idioma\n",
    "### n° paginas"
   ]
  },
  {
   "cell_type": "code",
   "execution_count": 13,
   "metadata": {},
   "outputs": [
    {
     "name": "stdout",
     "output_type": "stream",
     "text": [
      "Faro Editorial; 1ª edição (1 janeiro 2017) | Português | 296 | Faro Editorial | 1 janeiro 2017\n"
     ]
    }
   ],
   "source": [
    "inicio = spanList[0]\n",
    "# data de publicação\n",
    "date = inicio.split(\"(\")[-1]\n",
    "\n",
    "publisher = inicio.split(\"(\")[0]\n",
    "if \";\" in publisher:\n",
    "    publisher = publisher.split(\";\")[0]\n",
    "\n",
    "date = date.replace(\")\", \"\")\n",
    "# idioma\n",
    "language = spanList[1]\n",
    "\n",
    "# n° paginas\n",
    "pages = spanList[2].split()[0]\n",
    "\n",
    "print(inicio, \"|\", language, \"|\", pages, \"|\", publisher, \"|\", date)"
   ]
  },
  {
   "cell_type": "markdown",
   "metadata": {},
   "source": [
    "----"
   ]
  },
  {
   "cell_type": "code",
   "execution_count": 2,
   "metadata": {},
   "outputs": [],
   "source": [
    "element = bookContainerList[1]\n",
    "temp = element.find_elements_by_css_selector('a.a-size-small.a-link-normal') # n° aval\n",
    "stars = element.find_elements_by_css_selector('i.a-icon.a-icon-star') # pega o css do icone das estrelas"
   ]
  },
  {
   "cell_type": "code",
   "execution_count": 4,
   "metadata": {},
   "outputs": [
    {
     "data": {
      "text/plain": [
       "'4,7 de 5 estrelas'"
      ]
     },
     "execution_count": 4,
     "metadata": {},
     "output_type": "execute_result"
    }
   ],
   "source": [
    "# Como usamos o find_elementS, pegamos o primeiro item da lista dos \n",
    "# elementos achados\n",
    "star = stars[0] \n",
    "linkstar = star.find_element_by_xpath('..') # pega o elemento pai do elemento\n",
    "linkstar.get_attribute('title') # Pega o atributo html 'title'"
   ]
  },
  {
   "cell_type": "code",
   "execution_count": 28,
   "metadata": {},
   "outputs": [
    {
     "name": "stdout",
     "output_type": "stream",
     "text": [
      "Napoleon Hill\n"
     ]
    }
   ],
   "source": [
    "element = bookContainerList[1]\n",
    "papaiAutor = element.find_element_by_css_selector(\"div.a-row.a-size-small\")\n",
    "author = papaiAutor.find_element_by_xpath('.//*')\n",
    "\n",
    "\n",
    "print(author.text)"
   ]
  },
  {
   "cell_type": "code",
   "execution_count": 31,
   "metadata": {},
   "outputs": [
    {
     "name": "stdout",
     "output_type": "stream",
     "text": [
      "[{'title': 'Cidade Pequenina - Edição Limitada com Bookplate Autografado', 'position': '#1', 'author': 'Camilo Solano', 'stars': 'N/A', 'review': 'N/A', 'typeBook': 'Capa dura', 'price': 'R$ 62,93'}, {'title': 'Mais esperto que o Diabo: O mistério revelado da liberdade e do sucesso', 'position': '#2', 'author': 'Napoleon Hill', 'stars': '4,7 de 5 estrelas', 'review': '17.040', 'typeBook': 'Capa comum', 'price': 'R$ 15,08'}, {'title': 'Mulheres que correm com os lobos', 'position': '#3', 'author': 'Clarissa Pinkola Estés', 'stars': '4,8 de 5 estrelas', 'review': '16.392', 'typeBook': 'Capa dura', 'price': 'R$ 29,40'}, {'title': 'O homem mais rico da Babilônia', 'position': '#4', 'author': 'George S Clason', 'stars': '4,9 de 5 estrelas', 'review': '12.165', 'typeBook': 'Capa comum', 'price': 'R$ 13,00'}, {'title': 'Fisher-price - Kit Coleção Como É Bom', 'position': '#5', 'author': 'Vários Autores', 'stars': '4,9 de 5 estrelas', 'review': '964', 'typeBook': 'Capa dura', 'price': 'R$ 24,90'}, {'title': 'Os sete maridos de Evelyn Hugo', 'position': '#6', 'author': 'Taylor Jenkins Reid', 'stars': '4,8 de 5 estrelas', 'review': '10.272', 'typeBook': 'Capa comum', 'price': 'R$ 29,90'}, {'title': 'A garota do lago', 'position': '#7', 'author': 'Charlie Donlea', 'stars': '4,7 de 5 estrelas', 'review': '17.966', 'typeBook': 'Capa comum', 'price': 'R$ 8,30'}, {'title': 'Vermelho, branco e sangue azul', 'position': '#8', 'author': 'Casey McQuiston', 'stars': '4,8 de 5 estrelas', 'review': '9.995', 'typeBook': 'Capa comum', 'price': 'R$ 27,90'}, {'title': 'Clássicos Góticos', 'position': '#9', 'author': 'Bram Stoker', 'stars': '4,8 de 5 estrelas', 'review': '314', 'typeBook': 'Capa comum', 'price': 'R$ 21,78'}, {'title': 'O poder do hábito', 'position': '#10', 'author': 'Charles Duhigg', 'stars': '4,8 de 5 estrelas', 'review': '14.084', 'typeBook': 'Capa comum', 'price': 'R$ 27,90'}, {'title': 'Frankenstein E Outras Histórias De Horror, De Junji Ito', 'position': '#11', 'author': 'Junji Ito', 'stars': 'N/A', 'review': 'N/A', 'typeBook': 'Capa comum', 'price': 'R$ 51,03'}, {'title': 'É Assim que Acaba', 'position': '#12', 'author': 'Colleen Hoover', 'stars': '4,9 de 5 estrelas', 'review': '5.214', 'typeBook': 'Capa comum', 'price': 'R$ 32,44'}, {'title': 'Os segredos da mente milionária', 'position': '#13', 'author': 'T. Harv Eker', 'stars': '4,8 de 5 estrelas', 'review': '13.902', 'typeBook': 'Capa comum', 'price': 'R$ 19,98'}, {'title': 'Mentirosos', 'position': '#14', 'author': 'E. Lockhart', 'stars': '4,6 de 5 estrelas', 'review': '6.594', 'typeBook': 'Capa comum', 'price': 'R$ 28,34'}, {'title': 'As obras revolucionárias de George Orwell - Box com 3 livros', 'position': '#15', 'author': 'George Orwell', 'stars': '4,8 de 5 estrelas', 'review': '1.325', 'typeBook': 'Capa comum', 'price': 'R$ 24,90'}, {'title': 'A revolução dos bichos: Um conto de fadas', 'position': '#16', 'author': 'George Orwell', 'stars': '4,9 de 5 estrelas', 'review': '22.253', 'typeBook': 'Capa comum', 'price': 'R$ 10,20'}, {'title': 'Pai rico, pai pobre: Edição de 20 anos atualizada e ampliada', 'position': '#17', 'author': 'Robert T. Kiyosaki', 'stars': '4,9 de 5 estrelas', 'review': '8.597', 'typeBook': 'Capa comum', 'price': 'R$ 34,98'}, {'title': 'Do Mil ao Milhão. Sem Cortar o Cafezinho.', 'position': '#18', 'author': 'Thiago Nigro', 'stars': '4,7 de 5 estrelas', 'review': '17.183', 'typeBook': 'Capa comum', 'price': 'R$ 15,98'}, {'title': 'Torto arado', 'position': '#19', 'author': 'Itamar Vieira Junior', 'stars': '4,8 de 5 estrelas', 'review': '14.309', 'typeBook': 'Capa comum', 'price': 'R$ 35,90'}, {'title': 'Perigoso!', 'position': '#20', 'author': 'Tim Warnes', 'stars': '4,9 de 5 estrelas', 'review': '2.397', 'typeBook': 'Capa comum', 'price': 'R$ 17,90'}, {'title': 'O milagre da manhã: O segredo para transformar sua vida (antes das 8 horas)', 'position': '#21', 'author': 'Hal Elrod', 'stars': '4,7 de 5 estrelas', 'review': '13.627', 'typeBook': 'Capa comum', 'price': 'R$ 19,40'}, {'title': 'A Vida Invisível de Addie Larue (Acompanha Brindes)', 'position': '#22', 'author': 'V.e Schwab', 'stars': '4,4 de 5 estrelas', 'review': '249', 'typeBook': 'Acessório', 'price': 'R$ 43,10'}, {'title': 'Mindset: A nova psicologia do sucesso', 'position': '#23', 'author': 'Carol S. Dweck', 'stars': '4,7 de 5 estrelas', 'review': '12.290', 'typeBook': 'Capa comum', 'price': 'R$ 27,59'}, {'title': 'Daisy Jones and The Six: Uma história de amor e música', 'position': '#24', 'author': 'Taylor Jenkins Reid', 'stars': '4,7 de 5 estrelas', 'review': '4.413', 'typeBook': 'Capa comum', 'price': 'R$ 23,90'}, {'title': 'Rápido e devagar', 'position': '#25', 'author': 'Daniel Kahneman', 'stars': '4,7 de 5 estrelas', 'review': '5.365', 'typeBook': 'Capa comum', 'price': 'R$ 38,69'}, {'title': 'A lâmina da assassina: Histórias de Trono de Vidro', 'position': '#26', 'author': 'Sarah J. Maas', 'stars': '4,8 de 5 estrelas', 'review': '2.913', 'typeBook': 'Capa comum', 'price': 'R$ 22,89'}, {'title': 'Quem pensa enriquece - o legado: O legado', 'position': '#27', 'author': 'Napoleon Hill', 'stars': '4,8 de 5 estrelas', 'review': '4.380', 'typeBook': 'Capa comum', 'price': 'R$ 19,80'}, {'title': 'Como cuidar do seu dinheiro', 'position': '#28', 'author': 'Thiago Nigro', 'stars': '4,8 de 5 estrelas', 'review': '1.005', 'typeBook': 'Capa comum', 'price': 'R$ 19,90'}, {'title': 'A coragem de ser imperfeito', 'position': '#29', 'author': 'Brené Brown', 'stars': '4,7 de 5 estrelas', 'review': '7.021', 'typeBook': 'Capa comum', 'price': 'R$ 29,90'}, {'title': 'O livro das virtudes para crianças', 'position': '#30', 'author': 'William Bennett', 'stars': '4,8 de 5 estrelas', 'review': '584', 'typeBook': 'Capa dura', 'price': 'R$ 31,26'}, {'title': 'Irmão do Jorel: Livro fenomenal', 'position': '#31', 'author': 'Irmão do Jorel', 'stars': '4,9 de 5 estrelas', 'review': '186', 'typeBook': 'Capa dura', 'price': 'R$ 29,94'}, {'title': 'Amor & Gelato', 'position': '#32', 'author': 'Jenna Evans Welch', 'stars': '4,7 de 5 estrelas', 'review': '6.649', 'typeBook': 'Capa comum', 'price': 'R$ 29,93'}, {'title': 'Jujutsu Kaisen - Batalha De Feiticeiros - 10', 'position': '#33', 'author': 'Gege Akutami', 'stars': 'N/A', 'review': 'N/A', 'typeBook': 'Capa comum', 'price': 'R$ 19,44'}, {'title': '12 regras para a vida: Um antídoto para o caos', 'position': '#34', 'author': 'Jordan B. Peterson', 'stars': '4,8 de 5 estrelas', 'review': '5.818', 'typeBook': 'Capa comum', 'price': 'R$ 39,89'}, {'title': 'Haikyu! Volume 02 - Big', 'position': '#35', 'author': 'haruichi Furudate', 'stars': 'N/A', 'review': 'N/A', 'typeBook': 'Capa comum', 'price': 'R$ 39,90'}, {'title': 'A rainha vermelha', 'position': '#36', 'author': 'Victoria Aveyard', 'stars': '4,7 de 5 estrelas', 'review': '10.040', 'typeBook': 'Capa comum', 'price': 'R$ 23,69'}, {'title': 'O príncipe cruel (Vol. 1 O Povo do Ar)', 'position': '#37', 'author': 'Holly Black', 'stars': '4,8 de 5 estrelas', 'review': '7.954', 'typeBook': 'Capa comum', 'price': 'R$ 27,90'}, {'title': 'Política é para todos', 'position': '#38', 'author': 'Gabriela Prioli', 'stars': '4,7 de 5 estrelas', 'review': '174', 'typeBook': 'Capa comum', 'price': 'R$ 26,90'}, {'title': 'Hábitos atômicos: Um método fácil e comprovado de criar bons hábitos e se livrar dos maus', 'position': '#39', 'author': 'James Clear', 'stars': '4,8 de 5 estrelas', 'review': '3.307', 'typeBook': 'Capa comum', 'price': 'R$ 28,70'}, {'title': 'Pequeninos: Minha Pequena Bíblia', 'position': '#40', 'author': '© Todolivro Ltda.', 'stars': '4,9 de 5 estrelas', 'review': '681', 'typeBook': 'Capa dura', 'price': 'R$ 11,70'}, {'title': 'Heartstopper: Dois garotos, um encontro (vol. 1)', 'position': '#41', 'author': 'Alice Oseman', 'stars': '4,6 de 5 estrelas', 'review': '52', 'typeBook': 'Capa dura', 'price': 'R$ 56,89'}, {'title': 'Cristianismo puro e simples', 'position': '#42', 'author': 'C. S. Lewis', 'stars': '4,9 de 5 estrelas', 'review': '5.987', 'typeBook': 'Capa dura', 'price': 'R$ 18,00'}, {'title': 'Até o verão terminar', 'position': '#43', 'author': 'Colleen Hoover', 'stars': '4,7 de 5 estrelas', 'review': '147', 'typeBook': 'Capa comum', 'price': 'R$ 32,44'}, {'title': 'AS 48 LEIS DO PODER (CAPA DURA)', 'position': '#44', 'author': 'ROBERT GREENE', 'stars': '4,8 de 5 estrelas', 'review': '1.415', 'typeBook': 'Capa dura', 'price': 'R$ 55,19'}, {'title': 'Demolidor Vol.05', 'position': '#45', 'author': 'Chip Zdarsky', 'stars': 'N/A', 'review': 'N/A', 'typeBook': 'Capa comum', 'price': 'R$ 20,74'}, {'title': 'Talvez você deva conversar com alguém: Uma terapeuta, o terapeuta dela e a vida de todos nós', 'position': '#46', 'author': 'Lori Gottlieb', 'stars': '4,8 de 5 estrelas', 'review': '4.508', 'typeBook': 'Capa comum', 'price': 'R$ 36,00'}, {'title': 'Livro + Bloco criativo (origami)', 'position': '#47', 'author': 'Maria Angela Finzetto', 'stars': '4,8 de 5 estrelas', 'review': '1.179', 'typeBook': 'Folha solta', 'price': 'R$ 9,00'}, {'title': 'Corte de Espinhos e Rosas (vol. 1 - Edição Especial) – Acompanha Brindes', 'position': '#48', 'author': 'Sarah J. Maas', 'stars': '4,8 de 5 estrelas', 'review': '12.716', 'typeBook': 'Capa dura', 'price': 'R$ 89,90'}, {'title': 'Um de nós está mentindo', 'position': '#49', 'author': 'Karen M. McManus', 'stars': '4,7 de 5 estrelas', 'review': '4.170', 'typeBook': 'Capa comum', 'price': 'R$ 31,99'}, {'title': 'Sapiens (Nova edição): Uma breve história da humanidade', 'position': '#50', 'author': 'Yuval Noah Harari', 'stars': '4,8 de 5 estrelas', 'review': '1.994', 'typeBook': 'Capa comum', 'price': 'R$ 36,89'}]\n"
     ]
    }
   ],
   "source": [
    "\n",
    "for element in bookContainerList:\n",
    "    \n",
    "    title = element.find_element_by_css_selector('div.p13n-sc-truncated')\n",
    "    ranking = element.find_element_by_css_selector('span.zg-badge-text')\n",
    "    authorParent = element.find_element_by_css_selector(\"div.a-row.a-size-small\")\n",
    "    author = authorParent.find_element_by_xpath('.//*')\n",
    "    review = element.find_elements_by_css_selector('a.a-size-small.a-link-normal') \n",
    "    typeBook = element.find_element_by_css_selector('span.a-size-small.a-color-secondary')\n",
    "    price = element.find_element_by_css_selector('span.p13n-sc-price')\n",
    "    stars = element.find_elements_by_css_selector('i.a-icon.a-icon-star') \n",
    "    linkstar = stars[0].find_element_by_xpath('..') if len(stars) != 0 else None\n",
    "\n",
    "    if title:\n",
    "        if title.get_attribute(\"title\") == \"\":\n",
    "            title = title.text\n",
    "        else:\n",
    "            title = title.get_attribute(\"title\")\n",
    "    \n",
    "    data.append({\n",
    "        'title': title if title else \"N/A\",\n",
    "        'position': ranking.text if ranking  else \"N/A\",\n",
    "        'author': author.text if author else \"N/A\",\n",
    "        'stars': linkstar.get_attribute('title') if linkstar else \"N/A\" ,\n",
    "        'review': review[0].text if len(review) != 0 else \"N/A\",\n",
    "        'typeBook': typeBook.text if typeBook else \"N/A\",\n",
    "        'price': price.text if price else \"N/A\"\n",
    "    })\n",
    "\n",
    "print(data) \n",
    "\n",
    "driver.close()\n",
    "\n",
    "\n",
    "\n",
    "\n"
   ]
  },
  {
   "cell_type": "markdown",
   "metadata": {},
   "source": [
    "### Spread no python"
   ]
  },
  {
   "cell_type": "code",
   "execution_count": 5,
   "metadata": {},
   "outputs": [
    {
     "name": "stdout",
     "output_type": "stream",
     "text": [
      "[{'a': 1, 'b': 2, 'c': 3}, {'jj': 1}]\n"
     ]
    }
   ],
   "source": [
    "d = [{\n",
    "    \"a\": 1,\n",
    "    \"b\": 2\n",
    "    }, {\"jj\": 1}\n",
    "    ]\n",
    "\n",
    "d[0] = {**d[0], \"c\" : 3}\n",
    "\n",
    "print(d)"
   ]
  },
  {
   "cell_type": "markdown",
   "metadata": {},
   "source": [
    "## Testes Banco"
   ]
  },
  {
   "cell_type": "code",
   "execution_count": 6,
   "metadata": {},
   "outputs": [],
   "source": [
    "import sqlite3\n",
    "connector = sqlite3.connect('conexao.db')\n",
    "cursor = connector.cursor()"
   ]
  },
  {
   "cell_type": "markdown",
   "metadata": {},
   "source": [
    "testes produto"
   ]
  },
  {
   "cell_type": "code",
   "execution_count": null,
   "metadata": {},
   "outputs": [],
   "source": [
    "cursor.execute('DELETE FROM Product WHERE proCode = ?', (proCode))\n",
    "print('Product deleted.')\n",
    "\n",
    "cursor.execute('SELECT * FROM Product WHERE proCode = ?', (proCode))"
   ]
  },
  {
   "cell_type": "markdown",
   "metadata": {},
   "source": [
    "testes autor"
   ]
  },
  {
   "cell_type": "code",
   "execution_count": null,
   "metadata": {},
   "outputs": [],
   "source": [
    "cursor.execute('DELETE FROM Author WHERE autCode = ?', (autCode))\n",
    "print('Author deleted.')\n",
    "\n",
    "cursor.execute('SELECT * FROM Author WHERE autCode = ?', (autCode))"
   ]
  },
  {
   "cell_type": "markdown",
   "metadata": {},
   "source": [
    "teste categtoria crud"
   ]
  },
  {
   "cell_type": "code",
   "execution_count": 8,
   "metadata": {},
   "outputs": [],
   "source": [
    "import sys\n",
    "import time\n",
    "from selenium import webdriver\n",
    "from selenium.webdriver.common.keys import Keys\n",
    "from selenium.webdriver.common.by import By\n",
    "from selenium.webdriver.support.ui import WebDriverWait\n",
    "from selenium.webdriver.support import expected_conditions as EC\n",
    "from raspagem_categoria import rasparCategoria\n",
    "import time\n",
    "import sqlite3\n",
    "import os.path\n",
    "\n",
    "\n",
    "## Setup\n",
    "# Conexão\n",
    "\n",
    "\n",
    "driver = webdriver.Chrome()"
   ]
  },
  {
   "cell_type": "code",
   "execution_count": 49,
   "metadata": {},
   "outputs": [
    {
     "name": "stdout",
     "output_type": "stream",
     "text": [
      "[{'title': 'Duna: 1', 'position': 1, 'author': 'Frank Herbert', 'stars': 4.8, 'review': 6951, 'typeBook': 'Capa dura', 'price': 43.1, 'link': 'https://www.amazon.com.br/Duna-Frank-Herbert/dp/857657313X/ref=zg_bs_books_1?_encoding=UTF8&psc=1&refRID=KC0F4Q076E1HNS75Y1AB', 'img': 'https://images-na.ssl-images-amazon.com/images/I/81zN7udGRUL._AC_UL200_SR200,200_.jpg', 'category': 'Livros', 'publisher': 'Editora Aleph', 'date': '28 abril 2017', 'language': 'Português', 'pages': 680}, {'title': 'O guia do mochileiro das galáxias - Edição Ilustrada', 'position': 2, 'author': 'Douglas Adams', 'stars': 4.8, 'review': 72, 'typeBook': 'Capa dura', 'price': 23.8, 'link': 'https://www.amazon.com.br/guia-mochileiro-das-gal%C3%A1xias-Ilustrada/dp/6555651326/ref=zg_bs_books_2?_encoding=UTF8&psc=1&refRID=KC0F4Q076E1HNS75Y1AB', 'img': 'https://images-na.ssl-images-amazon.com/images/I/91CiPHBhixL._AC_UL200_SR200,200_.jpg', 'category': 'Livros', 'publisher': 'Editora Arqueiro', 'date': '12 maio 2021', 'language': 'Português', 'pages': 320}, {'title': 'O homem mais rico da Babilônia', 'position': 3, 'author': 'George S Clason', 'stars': 4.9, 'review': 12598, 'typeBook': 'Capa comum', 'price': 13.29, 'link': 'https://www.amazon.com.br/Homem-Mais-Rico-Babil%C3%B4nia/dp/8595081530/ref=zg_bs_books_3?_encoding=UTF8&psc=1&refRID=KC0F4Q076E1HNS75Y1AB', 'img': 'https://images-na.ssl-images-amazon.com/images/I/81HKcvLn15L._AC_UL200_SR200,200_.jpg', 'category': 'Livros', 'publisher': 'HarperCollins', 'date': '4 agosto 2017', 'language': 'Português', 'pages': 160}, {'title': 'Mulheres que correm com os lobos', 'position': 4, 'author': 'Clarissa Pinkola Estés', 'stars': 4.8, 'review': 16854, 'typeBook': 'Capa dura', 'price': 29.2, 'link': 'https://www.amazon.com.br/Mulheres-que-Correm-com-Lobos/dp/853252978X/ref=zg_bs_books_4?_encoding=UTF8&psc=1&refRID=KC0F4Q076E1HNS75Y1AB', 'img': 'https://images-na.ssl-images-amazon.com/images/I/7121bMhcNKL._AC_UL200_SR200,200_.jpg', 'category': 'Livros', 'publisher': 'Rocco', 'date': '17 setembro 2018', 'language': 'Português', 'pages': 576}]\n"
     ]
    }
   ],
   "source": [
    "data = [{'title': 'Duna: 1', 'position': 1, 'author': 'Frank Herbert', 'stars': 4.8, 'review': 6951, 'typeBook': 'Capa dura', 'price': 43.1, 'link': 'https://www.amazon.com.br/Duna-Frank-Herbert/dp/857657313X/ref=zg_bs_books_1?_encoding=UTF8&psc=1&refRID=KC0F4Q076E1HNS75Y1AB', 'img': 'https://images-na.ssl-images-amazon.com/images/I/81zN7udGRUL._AC_UL200_SR200,200_.jpg', 'category': 'Livros'}, {'title': 'O guia do mochileiro das galáxias - Edição Ilustrada', 'position': 2, 'author': 'Douglas Adams', 'stars': 4.8, 'review': 72, 'typeBook': 'Capa dura', 'price': 23.8, 'link': 'https://www.amazon.com.br/guia-mochileiro-das-gal%C3%A1xias-Ilustrada/dp/6555651326/ref=zg_bs_books_2?_encoding=UTF8&psc=1&refRID=KC0F4Q076E1HNS75Y1AB', 'img': 'https://images-na.ssl-images-amazon.com/images/I/91CiPHBhixL._AC_UL200_SR200,200_.jpg', 'category': 'Livros'}, {'title': 'O homem mais rico da Babilônia', 'position': 3, 'author': 'George S Clason', 'stars': 4.9, 'review': 12598, 'typeBook': 'Capa comum', 'price': 13.29, 'link': 'https://www.amazon.com.br/Homem-Mais-Rico-Babil%C3%B4nia/dp/8595081530/ref=zg_bs_books_3?_encoding=UTF8&psc=1&refRID=KC0F4Q076E1HNS75Y1AB', 'img': 'https://images-na.ssl-images-amazon.com/images/I/81HKcvLn15L._AC_UL200_SR200,200_.jpg', 'category': 'Livros'}, {'title': 'Mulheres que correm com os lobos', 'position': 4, 'author': 'Clarissa Pinkola Estés', 'stars': 4.8, 'review': 16854, 'typeBook': 'Capa dura', 'price': 29.2, 'link': 'https://www.amazon.com.br/Mulheres-que-Correm-com-Lobos/dp/853252978X/ref=zg_bs_books_4?_encoding=UTF8&psc=1&refRID=KC0F4Q076E1HNS75Y1AB', 'img': 'https://images-na.ssl-images-amazon.com/images/I/7121bMhcNKL._AC_UL200_SR200,200_.jpg', 'category': 'Livros'}]\n",
    "\n",
    "\n",
    "for i in range(len(data)):\n",
    "    # init\n",
    "    spanHeaderList = []\n",
    "    spanTextList = []\n",
    "\n",
    "    driver.get(data[i][\"link\"]) # entra no link do livro especifico\n",
    "        \n",
    "    bookDetailsList = WebDriverWait(driver, 10).until(\n",
    "        EC.presence_of_all_elements_located((By.ID, 'detailBullets_feature_div'))\n",
    "    )\n",
    "\n",
    "    bookDetails = bookDetailsList[1]\n",
    "    bookDetailsElements = bookDetails.find_elements_by_tag_name('li')\n",
    "    \n",
    "    for li in bookDetailsElements:\n",
    "        spanHeaderList.append(li.find_elements_by_tag_name('span')[1].text) \n",
    "        spanTextList.append(li.find_elements_by_tag_name('span')[2].text)\n",
    "        \n",
    "    spanHeaderList = list(map(lambda li: li.replace(\" :\", \"\"), spanHeaderList))\n",
    "\n",
    "    for j in range(len(spanHeaderList)):\n",
    "        if spanHeaderList[j] == \"Editora\": \n",
    "            inicio = spanTextList[j]\n",
    "            date = inicio.split(\"(\")[-1]\n",
    "            publisher = inicio.split(\"(\")[0]\n",
    "            if \";\" in publisher:\n",
    "                publisher = publisher.split(\";\")[0]\n",
    "            date = date.replace(\")\", \"\")\n",
    "        elif spanHeaderList[j] == \"Idioma\":\n",
    "            language = spanTextList[j]\n",
    "        elif spanHeaderList[j] == data[i][\"typeBook\"]:\n",
    "            pages = int(spanTextList[j].split()[0])\n",
    "\n",
    "    # Pega o ultimo dado acoplado e adiciona info\n",
    "    data[i] = ({**data[i],\n",
    "        'publisher': publisher if publisher else \"N/A\",\n",
    "        'date': date if date else \"N/A\",\n",
    "        'language': language if language else \"N/A\",\n",
    "        'pages': pages if pages else \"N/A\"\n",
    "    }) \n",
    "\n",
    "print(data)"
   ]
  },
  {
   "cell_type": "code",
   "execution_count": 46,
   "metadata": {},
   "outputs": [
    {
     "name": "stdout",
     "output_type": "stream",
     "text": [
      "{'a': 1, 'b': 2, 'c': 3}\n",
      "[{'a': 1, 'b': 2, 'c': 3, 'd': '4', 'f': '6'}, {'a': 1, 'b': 2, 'c': 3}]\n"
     ]
    }
   ],
   "source": [
    "teste2 = [{\n",
    "    \"a\": 1,\n",
    "    \"b\": 2,\n",
    "    \"c\": 3\n",
    "},{\n",
    "    \"a\": 1,\n",
    "    \"b\": 2,\n",
    "    \"c\": 3\n",
    "}]\n",
    "print(teste2[0])\n",
    "'''\n",
    "data[-1]({**data[-1],\n",
    "    'publisher': publisher if publisher else \"N/A\",\n",
    "    'language': language if language else \"N/A\",\n",
    "    'pages': pages if pages else \"N/A\"\n",
    "}) \n",
    "'''\n",
    "teste2[0] = ({**teste2[0],\n",
    "    \"d\": '4',\n",
    "    \"f\": '6'\n",
    "})\n",
    "\n",
    "\n",
    "print(teste2)"
   ]
  },
  {
   "cell_type": "code",
   "execution_count": 51,
   "metadata": {},
   "outputs": [
    {
     "name": "stdout",
     "output_type": "stream",
     "text": [
      "<class 'datetime.datetime'>\n"
     ]
    }
   ],
   "source": [
    "import datetime\n",
    "\n",
    "a = datetime.datetime.now()\n",
    "print(type(a))"
   ]
  }
 ],
 "metadata": {
  "interpreter": {
   "hash": "0d66437b3a9d4a7488e351953b58bb41720b9964608ea1bb3b5b6b4b7c33c05d"
  },
  "kernelspec": {
   "display_name": "Python 3.9.6 64-bit",
   "name": "python3"
  },
  "language_info": {
   "codemirror_mode": {
    "name": "ipython",
    "version": 3
   },
   "file_extension": ".py",
   "mimetype": "text/x-python",
   "name": "python",
   "nbconvert_exporter": "python",
   "pygments_lexer": "ipython3",
   "version": "3.9.6"
  },
  "orig_nbformat": 4
 },
 "nbformat": 4,
 "nbformat_minor": 2
}
